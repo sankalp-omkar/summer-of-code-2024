{
  "nbformat": 4,
  "nbformat_minor": 0,
  "metadata": {
    "colab": {
      "provenance": [],
      "authorship_tag": "ABX9TyNqhPd1NTL6rvSMYR23PNpR",
      "include_colab_link": true
    },
    "kernelspec": {
      "name": "python3",
      "display_name": "Python 3"
    },
    "language_info": {
      "name": "python"
    }
  },
  "cells": [
    {
      "cell_type": "markdown",
      "metadata": {
        "id": "view-in-github",
        "colab_type": "text"
      },
      "source": [
        "<a href=\"https://colab.research.google.com/github/sankalp-omkar/summer-of-code-2024/blob/main/devsoc2.ipynb\" target=\"_parent\"><img src=\"https://colab.research.google.com/assets/colab-badge.svg\" alt=\"Open In Colab\"/></a>"
      ]
    },
    {
      "cell_type": "code",
      "execution_count": null,
      "metadata": {
        "id": "1K3ojMhZtTqf"
      },
      "outputs": [],
      "source": [
        "pip install opendatasets"
      ]
    },
    {
      "cell_type": "code",
      "source": [
        "import opendatasets as od\n",
        "od.download(\"https://www.kaggle.com/datasets/rohitsahoo/sales-forecasting/data\")"
      ],
      "metadata": {
        "id": "LyftDPePtZVV"
      },
      "execution_count": null,
      "outputs": []
    },
    {
      "cell_type": "code",
      "source": [
        "from statsmodels.tsa.arima.model import ARIMA\n",
        "from prophet import Prophet\n",
        "from keras import models\n",
        "from keras import layers\n",
        "from sklearn.preprocessing import OrdinalEncoder\n",
        "from sklearn.metrics import mean_squared_error\n",
        "\n",
        "\n",
        "data = pd.read_csv('//content//sales-forecasting//train.csv')\n",
        "\n",
        "target = data.Sales\n",
        "\n",
        "encoder = OrdinalEncoder()\n",
        "\n",
        "cols_to_encode = ['Ship Mode', 'Segment', 'State', 'Region', 'Category', 'Sub-Category']\n",
        "\n",
        "data[cols_to_encode] = encoder.fit_transform(data[cols_to_encode])\n",
        "\n",
        "features=data[cols_to_encode]\n",
        "\n",
        "def predict_arima():\n",
        "  model_arima = ARIMA(data, order=(1, 1, 0))\n",
        "  model_arima_fit = model_arima.fit()\n",
        "  return model_arima_fit.forecast(steps=1)[0]\n",
        "\n",
        "def predict_prophet(X_train, y_train):\n",
        "  model_prophet = Prophet()\n",
        "  model_prophet.fit(pd.DataFrame({\"ds\": X_train.index, \"y\": y_train}))\n",
        "  future = model_prophet.make_future_dataframe(periods=1)\n",
        "  forecast_prophet = model_prophet.predict(future)\n",
        "  return forecast_prophet[\"sales\"].iloc[-1]\n",
        "\n",
        "def predict_lstm(X_train, y_train):\n",
        "  model_lstm = models.Sequential()\n",
        "  model_lstm.add(layers.LSTM(50, return_sequences=True, input_shape=(X_train.shape[1], 1)))\n",
        "  model_lstm.add(layers.LSTM(50))\n",
        "  model_lstm.add(layers.Dense(1))\n",
        "  model_lstm.compile(loss=\"mse\", optimizer=\"adam\")\n",
        "  model_lstm.fit(X_train.values.reshape(-1, X_train.shape[1], 1), y_train, epochs=10)\n",
        "  predicted_value = model_lstm.predict(X_train.values.reshape(-1, X_train.shape[1], 1))[-1, 0]\n",
        "  return predicted_value\n",
        "\n",
        "train_size = int(len(data) * 0.8)  # Adjust split ratio as needed\n",
        "X_train, X_test = features.iloc[:train_size], features.iloc[train_size:]\n",
        "y_train, y_test = target.iloc[:train_size], target.iloc[train_size:]\n",
        "\n",
        "arima_pred = predict_arima()\n",
        "prophet_pred = predict_prophet(X_train, y_train)\n",
        "lstm_pred = predict_lstm(X_train, y_train)\n",
        "\n",
        "print(\"ARIMA Prediction:\", arima_pred)\n",
        "print(\"Prophet Prediction:\", prophet_pred)\n",
        "print(\"LSTM Prediction:\", lstm_pred)\n",
        "\n",
        "mse_arima = mean_squared_error(y_test, arima_pred)\n",
        "mse_prophet = mean_squared_error(y_test, prophet_pred)\n",
        "mse_lstm = mean_squared_error(y_test, lstm_pred)\n",
        "print(\"ARIMA MSE:\", mse_arima)\n",
        "print(\"Prophet MSE:\", mse_prophet)\n",
        "print(\"LSTM MSE:\", mse_lstm)"
      ],
      "metadata": {
        "id": "Us-7l5OJtngv"
      },
      "execution_count": null,
      "outputs": []
    }
  ]
}