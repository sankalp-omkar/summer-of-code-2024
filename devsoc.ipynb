{
  "nbformat": 4,
  "nbformat_minor": 0,
  "metadata": {
    "colab": {
      "provenance": [],
      "mount_file_id": "1QFcb-vGp7k-FgBAvwEnDNPg60r-w9ULG",
      "authorship_tag": "ABX9TyPpJH9FlvuTU/4bRGQRWNfZ",
      "include_colab_link": true
    },
    "kernelspec": {
      "name": "python3",
      "display_name": "Python 3"
    },
    "language_info": {
      "name": "python"
    }
  },
  "cells": [
    {
      "cell_type": "markdown",
      "metadata": {
        "id": "view-in-github",
        "colab_type": "text"
      },
      "source": [
        "<a href=\"https://colab.research.google.com/github/sankalp-omkar/summer-of-code-2024/blob/main/devsoc.ipynb\" target=\"_parent\"><img src=\"https://colab.research.google.com/assets/colab-badge.svg\" alt=\"Open In Colab\"/></a>"
      ]
    },
    {
      "cell_type": "code",
      "source": [
        "pip install opendatasets"
      ],
      "metadata": {
        "id": "WDwZuXDLUN97"
      },
      "execution_count": null,
      "outputs": []
    },
    {
      "cell_type": "code",
      "source": [
        "import opendatasets as od\n",
        "od.download(\"https://www.kaggle.com/datasets/rupakroy/online-payments-fraud-detection-dataset/data\")"
      ],
      "metadata": {
        "id": "87odvdNF3vAw"
      },
      "execution_count": null,
      "outputs": []
    },
    {
      "cell_type": "code",
      "source": [
        "from lightgbm import LGBMClassifier\n",
        "import pandas as pd\n",
        "from sklearn.ensemble import RandomForestClassifier\n",
        "from sklearn.pipeline import make_pipeline\n",
        "from sklearn.preprocessing import OrdinalEncoder, StandardScaler\n",
        "from sklearn.linear_model import LogisticRegression\n",
        "from sklearn.model_selection import train_test_split\n",
        "from imblearn.over_sampling import SMOTE\n",
        "from sklearn.metrics import accuracy_score\n",
        "from sklearn.svm import SVC\n",
        "from xgboost import XGBClassifier\n",
        "import tensorflow as tf\n",
        "from keras import Sequential\n",
        "from keras import layers\n",
        "\n",
        "data=pd.read_csv('//content//online-payments-fraud-detection-dataset//PS_20174392719_1491204439457_log.csv')\n",
        "y = data.isFraud\n",
        "X = data.loc[:, ['type', 'amount', 'oldbalanceOrg', 'newbalanceOrig']]\n",
        "\n",
        "\n",
        "ordinalEncoder = OrdinalEncoder()\n",
        "label_X = X.copy()\n",
        "label_X['type'] = ordinalEncoder.fit_transform(X[['type']])\n",
        "\n",
        "\n",
        "train_X, test_X, train_y, test_y = train_test_split(label_X, y, test_size=0.2, train_size=0.8, random_state=1)\n",
        "smote = SMOTE(random_state=1)\n",
        "train_X_res, train_y_res = smote.fit_resample(train_X, train_y)\n",
        "\n",
        "# Logistic Regression\n",
        "pipe = make_pipeline(StandardScaler(), LogisticRegression())\n",
        "pipe.fit(train_X_res, train_y_res)\n",
        "score = pipe.score(test_X, test_y)\n",
        "print(f'Model Accuracy: {score}')\n",
        "\n",
        "#XGBoost\n",
        "xgb_model = XGBClassifier(use_label_encoder=False, eval_metric='logloss')\n",
        "xgb_model.fit(train_X_res, train_y_res)\n",
        "\n",
        "predictions = xgb_model.predict(test_X)\n",
        "score = accuracy_score(test_y, predictions)\n",
        "print(f'Model Accuracy: {score}')\n",
        "\n",
        "\n",
        "\n",
        "\n",
        "\n",
        "#Random Forest\n",
        "rf_model = RandomForestClassifier(random_state=1)\n",
        "rf_model.fit(train_X_res, train_y_res)\n",
        "predictions = rf_model.predict(test_X)\n",
        "score = accuracy_score(test_y, predictions)\n",
        "print(f'Model Accuracy: {score}')\n",
        "\n",
        "\n",
        "#LightGBM\n",
        "lgb_model = LGBMClassifier(random_state=1)\n",
        "lgb_model.fit(train_X_res, train_y_res)\n",
        "\n",
        "predictions = lgb_model.predict(test_X)\n",
        "score = accuracy_score(test_y, predictions)\n",
        "print(f'Model Accuracy: {score}')\n",
        "\n",
        "#SVM\n",
        "svm_model = SVC(random_state=1)\n",
        "svm_model.fit(train_X_res, train_y_res)\n",
        "\n",
        "predictions = svm_model.predict(test_X)\n",
        "score = accuracy_score(test_y, predictions)\n",
        "print(f'Model Accuracy: {score}')\n",
        "\n",
        "#Neural network\n",
        "scaler = StandardScaler()\n",
        "train_X_res = scaler.fit_transform(train_X_res)\n",
        "test_X = scaler.transform(test_X)\n",
        "\n",
        "model = Sequential([\n",
        "    layers.Dense(64, activation='relu', input_shape=(train_X_res.shape[1],)),\n",
        "    layers.Dropout(0.5),\n",
        "    layers.Dense(32, activation='relu'),\n",
        "    layers.Dropout(0.5),\n",
        "    layers.Dense(1, activation='sigmoid')\n",
        "])\n",
        "\n",
        "model.compile(optimizer='adam',\n",
        "              loss='binary_crossentropy',\n",
        "              metrics=['accuracy'])\n",
        "\n",
        "model.fit(train_X_res, train_y_res, epochs=10, batch_size=32, validation_data=(test_X, test_y))\n",
        "\n",
        "_, accuracy = model.evaluate(test_X, test_y)\n",
        "print(f'Model Accuracy: {accuracy}')"
      ],
      "metadata": {
        "id": "2uwRp7hOTpRK"
      },
      "execution_count": null,
      "outputs": []
    }
  ]
}